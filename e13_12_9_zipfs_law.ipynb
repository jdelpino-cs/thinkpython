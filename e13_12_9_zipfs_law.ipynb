{
 "cells": [
  {
   "cell_type": "markdown",
   "metadata": {},
   "source": [
    "## Practice using packing and unpaking with *\n",
    "\n",
    "Given an list of pairs p = [(a1, b1), (a2, b2), ..., (an, bn)],\n",
    "if we use the zip() function with the * operator: zip( * p )\n",
    "we will ontain a list of two list in the form\n",
    "q = [(a1, a2, ..., an), (b1, b2, ..., bn)]. Then if we do the same\n",
    "with q, that is zip( * q ) we will obtain p! They are zip\n",
    "inverses!"
   ]
  },
  {
   "cell_type": "code",
   "execution_count": 8,
   "metadata": {},
   "outputs": [
    {
     "name": "stdout",
     "output_type": "stream",
     "text": [
      "p = [(1, 500), (2, 430), (3, 231), (4, 140), (5, 20), (6, 12)]\n",
      "q = [(1, 2, 3, 4, 5, 6), (500, 430, 231, 140, 20, 12)]\n",
      "r = [(1, 500), (2, 430), (3, 231), (4, 140), (5, 20), (6, 12)]\n",
      "s = [(1, 2, 3, 4, 5, 6), (500, 430, 231, 140, 20, 12)]\n"
     ]
    }
   ],
   "source": [
    "p = [(1, 500), (2, 430), (3, 231), (4, 140), (5, 20), (6, 12)]\n",
    "*q, = zip(*p)\n",
    "*r, = zip(*q)\n",
    "*s, = zip(*r)\n",
    "print(f\"p = {p}\")\n",
    "print(f\"q = {q}\")\n",
    "print(f\"r = {r}\")\n",
    "print(f\"s = {s}\")"
   ]
  },
  {
   "cell_type": "markdown",
   "metadata": {},
   "source": [
    "This really comes in handy when you are working with x, y values and you want to manipulate them and plot them. It's an easy way to tranforms a list of x, y pairs an a list of list of x and y values. You can easily tangle and untagle the x,y values on pairs.\n",
    "\n",
    "This also applies with n-tuples representing more complex coordinate systems. Bellow I show an example with triples:"
   ]
  },
  {
   "cell_type": "code",
   "execution_count": 10,
   "metadata": {},
   "outputs": [
    {
     "name": "stdout",
     "output_type": "stream",
     "text": [
      "p = [(1, 10, 500), (2, 20, 430), (3, 30, 231), (4, 40, 140), (5, 50, 20), (6, 60, 12)]\n",
      "q = [(1, 2, 3, 4, 5, 6), (10, 20, 30, 40, 50, 60), (500, 430, 231, 140, 20, 12)]\n",
      "r = [(1, 10, 500), (2, 20, 430), (3, 30, 231), (4, 40, 140), (5, 50, 20), (6, 60, 12)]\n",
      "s = [(1, 2, 3, 4, 5, 6), (10, 20, 30, 40, 50, 60), (500, 430, 231, 140, 20, 12)]\n"
     ]
    }
   ],
   "source": [
    "p = [(1, 10, 500), (2, 20, 430), (3, 30, 231), (4, 40, 140), (5, 50, 20), (6, 60, 12)]\n",
    "*q, = zip(*p)\n",
    "*r, = zip(*q)\n",
    "*s, = zip(*r)\n",
    "print(f\"p = {p}\")\n",
    "print(f\"q = {q}\")\n",
    "print(f\"r = {r}\")\n",
    "print(f\"s = {s}\")"
   ]
  },
  {
   "cell_type": "code",
   "execution_count": null,
   "metadata": {},
   "outputs": [],
   "source": []
  }
 ],
 "metadata": {
  "kernelspec": {
   "display_name": "Python 3",
   "language": "python",
   "name": "python3"
  },
  "language_info": {
   "codemirror_mode": {
    "name": "ipython",
    "version": 3
   },
   "file_extension": ".py",
   "mimetype": "text/x-python",
   "name": "python",
   "nbconvert_exporter": "python",
   "pygments_lexer": "ipython3",
   "version": "3.7.7"
  }
 },
 "nbformat": 4,
 "nbformat_minor": 4
}